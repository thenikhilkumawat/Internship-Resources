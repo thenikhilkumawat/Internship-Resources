{
 "cells": [
  {
   "cell_type": "markdown",
   "id": "b555f356",
   "metadata": {
    "papermill": {
     "duration": 0.006106,
     "end_time": "2023-06-28T09:24:10.819237",
     "exception": false,
     "start_time": "2023-06-28T09:24:10.813131",
     "status": "completed"
    },
    "tags": []
   },
   "source": [
    "**This notebook is an exercise in the [Pandas](https://www.kaggle.com/learn/pandas) course.  You can reference the tutorial at [this link](https://www.kaggle.com/residentmario/data-types-and-missing-values).**\n",
    "\n",
    "---\n"
   ]
  },
  {
   "cell_type": "markdown",
   "id": "410a5f4f",
   "metadata": {
    "papermill": {
     "duration": 0.005148,
     "end_time": "2023-06-28T09:24:10.830076",
     "exception": false,
     "start_time": "2023-06-28T09:24:10.824928",
     "status": "completed"
    },
    "tags": []
   },
   "source": [
    "# Introduction\n",
    "\n",
    "Run the following cell to load your data and some utility functions."
   ]
  },
  {
   "cell_type": "code",
   "execution_count": 1,
   "id": "aecc0d4d",
   "metadata": {
    "execution": {
     "iopub.execute_input": "2023-06-28T09:24:10.843249Z",
     "iopub.status.busy": "2023-06-28T09:24:10.842546Z",
     "iopub.status.idle": "2023-06-28T09:24:14.125881Z",
     "shell.execute_reply": "2023-06-28T09:24:14.125068Z"
    },
    "papermill": {
     "duration": 3.295388,
     "end_time": "2023-06-28T09:24:14.130867",
     "exception": false,
     "start_time": "2023-06-28T09:24:10.835479",
     "status": "completed"
    },
    "tags": []
   },
   "outputs": [
    {
     "name": "stdout",
     "output_type": "stream",
     "text": [
      "Setup complete.\n"
     ]
    }
   ],
   "source": [
    "import pandas as pd\n",
    "\n",
    "reviews = pd.read_csv(\"../input/wine-reviews/winemag-data-130k-v2.csv\", index_col=0)\n",
    "\n",
    "from learntools.core import binder; binder.bind(globals())\n",
    "from learntools.pandas.data_types_and_missing_data import *\n",
    "print(\"Setup complete.\")"
   ]
  },
  {
   "cell_type": "markdown",
   "id": "ca4e6874",
   "metadata": {
    "papermill": {
     "duration": 0.007112,
     "end_time": "2023-06-28T09:24:14.145557",
     "exception": false,
     "start_time": "2023-06-28T09:24:14.138445",
     "status": "completed"
    },
    "tags": []
   },
   "source": [
    "# Exercises"
   ]
  },
  {
   "cell_type": "markdown",
   "id": "46ec92e3",
   "metadata": {
    "papermill": {
     "duration": 0.007125,
     "end_time": "2023-06-28T09:24:14.160330",
     "exception": false,
     "start_time": "2023-06-28T09:24:14.153205",
     "status": "completed"
    },
    "tags": []
   },
   "source": [
    "## 1. \n",
    "What is the data type of the `points` column in the dataset?"
   ]
  },
  {
   "cell_type": "code",
   "execution_count": 2,
   "id": "412de6ae",
   "metadata": {
    "execution": {
     "iopub.execute_input": "2023-06-28T09:24:14.177389Z",
     "iopub.status.busy": "2023-06-28T09:24:14.176662Z",
     "iopub.status.idle": "2023-06-28T09:24:14.186765Z",
     "shell.execute_reply": "2023-06-28T09:24:14.185721Z"
    },
    "papermill": {
     "duration": 0.021496,
     "end_time": "2023-06-28T09:24:14.189328",
     "exception": false,
     "start_time": "2023-06-28T09:24:14.167832",
     "status": "completed"
    },
    "tags": []
   },
   "outputs": [
    {
     "data": {
      "application/javascript": [
       "parent.postMessage({\"jupyterEvent\": \"custom.exercise_interaction\", \"data\": {\"outcomeType\": 1, \"valueTowardsCompletion\": 0.25, \"interactionType\": 1, \"questionType\": 1, \"questionId\": \"1_PointsDtype\", \"learnToolsVersion\": \"0.3.4\", \"failureMessage\": \"\", \"exceptionClass\": \"\", \"trace\": \"\"}}, \"*\")"
      ],
      "text/plain": [
       "<IPython.core.display.Javascript object>"
      ]
     },
     "metadata": {},
     "output_type": "display_data"
    },
    {
     "data": {
      "text/markdown": [
       "<span style=\"color:#33cc33\">Correct</span>"
      ],
      "text/plain": [
       "Correct"
      ]
     },
     "metadata": {},
     "output_type": "display_data"
    }
   ],
   "source": [
    "# Your code here\n",
    "dtype = reviews.points.dtype\n",
    "\n",
    "# Check your answer\n",
    "q1.check()"
   ]
  },
  {
   "cell_type": "code",
   "execution_count": 3,
   "id": "4e92a8a9",
   "metadata": {
    "execution": {
     "iopub.execute_input": "2023-06-28T09:24:14.208175Z",
     "iopub.status.busy": "2023-06-28T09:24:14.207415Z",
     "iopub.status.idle": "2023-06-28T09:24:14.211911Z",
     "shell.execute_reply": "2023-06-28T09:24:14.210854Z"
    },
    "papermill": {
     "duration": 0.017162,
     "end_time": "2023-06-28T09:24:14.214871",
     "exception": false,
     "start_time": "2023-06-28T09:24:14.197709",
     "status": "completed"
    },
    "tags": []
   },
   "outputs": [],
   "source": [
    "#q1.hint()\n",
    "#q1.solution()"
   ]
  },
  {
   "cell_type": "markdown",
   "id": "bde38f98",
   "metadata": {
    "papermill": {
     "duration": 0.005797,
     "end_time": "2023-06-28T09:24:14.226715",
     "exception": false,
     "start_time": "2023-06-28T09:24:14.220918",
     "status": "completed"
    },
    "tags": []
   },
   "source": [
    "## 2. \n",
    "Create a Series from entries in the `points` column, but convert the entries to strings. Hint: strings are `str` in native Python."
   ]
  },
  {
   "cell_type": "code",
   "execution_count": 4,
   "id": "70119a44",
   "metadata": {
    "execution": {
     "iopub.execute_input": "2023-06-28T09:24:14.241313Z",
     "iopub.status.busy": "2023-06-28T09:24:14.240089Z",
     "iopub.status.idle": "2023-06-28T09:24:14.341960Z",
     "shell.execute_reply": "2023-06-28T09:24:14.340921Z"
    },
    "papermill": {
     "duration": 0.112271,
     "end_time": "2023-06-28T09:24:14.345057",
     "exception": false,
     "start_time": "2023-06-28T09:24:14.232786",
     "status": "completed"
    },
    "tags": []
   },
   "outputs": [
    {
     "data": {
      "application/javascript": [
       "parent.postMessage({\"jupyterEvent\": \"custom.exercise_interaction\", \"data\": {\"outcomeType\": 1, \"valueTowardsCompletion\": 0.25, \"interactionType\": 1, \"questionType\": 1, \"questionId\": \"2_StrPoints\", \"learnToolsVersion\": \"0.3.4\", \"failureMessage\": \"\", \"exceptionClass\": \"\", \"trace\": \"\"}}, \"*\")"
      ],
      "text/plain": [
       "<IPython.core.display.Javascript object>"
      ]
     },
     "metadata": {},
     "output_type": "display_data"
    },
    {
     "data": {
      "text/markdown": [
       "<span style=\"color:#33cc33\">Correct</span>"
      ],
      "text/plain": [
       "Correct"
      ]
     },
     "metadata": {},
     "output_type": "display_data"
    }
   ],
   "source": [
    "point_strings = reviews.points.astype(str)\n",
    "\n",
    "# Check your answer\n",
    "q2.check()"
   ]
  },
  {
   "cell_type": "code",
   "execution_count": 5,
   "id": "fa2c7831",
   "metadata": {
    "execution": {
     "iopub.execute_input": "2023-06-28T09:24:14.364184Z",
     "iopub.status.busy": "2023-06-28T09:24:14.363581Z",
     "iopub.status.idle": "2023-06-28T09:24:14.369673Z",
     "shell.execute_reply": "2023-06-28T09:24:14.368533Z"
    },
    "papermill": {
     "duration": 0.019004,
     "end_time": "2023-06-28T09:24:14.372454",
     "exception": false,
     "start_time": "2023-06-28T09:24:14.353450",
     "status": "completed"
    },
    "tags": []
   },
   "outputs": [],
   "source": [
    "#q2.hint()\n",
    "#q2.solution()"
   ]
  },
  {
   "cell_type": "markdown",
   "id": "81071998",
   "metadata": {
    "papermill": {
     "duration": 0.006789,
     "end_time": "2023-06-28T09:24:14.385760",
     "exception": false,
     "start_time": "2023-06-28T09:24:14.378971",
     "status": "completed"
    },
    "tags": []
   },
   "source": [
    "## 3.\n",
    "Sometimes the price column is null. How many reviews in the dataset are missing a price?"
   ]
  },
  {
   "cell_type": "code",
   "execution_count": 6,
   "id": "ab0a8f42",
   "metadata": {
    "execution": {
     "iopub.execute_input": "2023-06-28T09:24:14.405263Z",
     "iopub.status.busy": "2023-06-28T09:24:14.404761Z",
     "iopub.status.idle": "2023-06-28T09:24:14.427381Z",
     "shell.execute_reply": "2023-06-28T09:24:14.425544Z"
    },
    "papermill": {
     "duration": 0.035977,
     "end_time": "2023-06-28T09:24:14.430350",
     "exception": false,
     "start_time": "2023-06-28T09:24:14.394373",
     "status": "completed"
    },
    "tags": []
   },
   "outputs": [
    {
     "data": {
      "application/javascript": [
       "parent.postMessage({\"jupyterEvent\": \"custom.exercise_interaction\", \"data\": {\"outcomeType\": 1, \"valueTowardsCompletion\": 0.25, \"interactionType\": 1, \"questionType\": 1, \"questionId\": \"3_CountMissingPrices\", \"learnToolsVersion\": \"0.3.4\", \"failureMessage\": \"\", \"exceptionClass\": \"\", \"trace\": \"\"}}, \"*\")"
      ],
      "text/plain": [
       "<IPython.core.display.Javascript object>"
      ]
     },
     "metadata": {},
     "output_type": "display_data"
    },
    {
     "data": {
      "text/markdown": [
       "<span style=\"color:#33cc33\">Correct</span>"
      ],
      "text/plain": [
       "Correct"
      ]
     },
     "metadata": {},
     "output_type": "display_data"
    }
   ],
   "source": [
    "missing_price_reviews = reviews[reviews.price.isnull()]\n",
    "n_missing_prices = len(missing_price_reviews)\n",
    "# Cute alternative solution: if we sum a boolean series, True is treated as 1 and False as 0\n",
    "n_missing_prices = reviews.price.isnull().sum()\n",
    "# or equivalently:\n",
    "n_missing_prices = pd.isnull(reviews.price).sum()\n",
    "\n",
    "# Check your answer\n",
    "q3.check()"
   ]
  },
  {
   "cell_type": "code",
   "execution_count": 7,
   "id": "34271a5c",
   "metadata": {
    "execution": {
     "iopub.execute_input": "2023-06-28T09:24:14.450365Z",
     "iopub.status.busy": "2023-06-28T09:24:14.449586Z",
     "iopub.status.idle": "2023-06-28T09:24:14.454110Z",
     "shell.execute_reply": "2023-06-28T09:24:14.453290Z"
    },
    "papermill": {
     "duration": 0.016672,
     "end_time": "2023-06-28T09:24:14.456417",
     "exception": false,
     "start_time": "2023-06-28T09:24:14.439745",
     "status": "completed"
    },
    "tags": []
   },
   "outputs": [],
   "source": [
    "#q3.hint()\n",
    "#q3.solution()"
   ]
  },
  {
   "cell_type": "markdown",
   "id": "3cb9fa38",
   "metadata": {
    "papermill": {
     "duration": 0.006413,
     "end_time": "2023-06-28T09:24:14.470238",
     "exception": false,
     "start_time": "2023-06-28T09:24:14.463825",
     "status": "completed"
    },
    "tags": []
   },
   "source": [
    "## 4.\n",
    "What are the most common wine-producing regions? Create a Series counting the number of times each value occurs in the `region_1` field. This field is often missing data, so replace missing values with `Unknown`. Sort in descending order.  Your output should look something like this:\n",
    "\n",
    "```\n",
    "Unknown                    21247\n",
    "Napa Valley                 4480\n",
    "                           ...  \n",
    "Bardolino Superiore            1\n",
    "Primitivo del Tarantino        1\n",
    "Name: region_1, Length: 1230, dtype: int64\n",
    "```"
   ]
  },
  {
   "cell_type": "code",
   "execution_count": 8,
   "id": "909f3b84",
   "metadata": {
    "execution": {
     "iopub.execute_input": "2023-06-28T09:24:14.486573Z",
     "iopub.status.busy": "2023-06-28T09:24:14.485734Z",
     "iopub.status.idle": "2023-06-28T09:24:14.568887Z",
     "shell.execute_reply": "2023-06-28T09:24:14.567774Z"
    },
    "papermill": {
     "duration": 0.094129,
     "end_time": "2023-06-28T09:24:14.571301",
     "exception": false,
     "start_time": "2023-06-28T09:24:14.477172",
     "status": "completed"
    },
    "tags": []
   },
   "outputs": [
    {
     "data": {
      "application/javascript": [
       "parent.postMessage({\"jupyterEvent\": \"custom.exercise_interaction\", \"data\": {\"outcomeType\": 1, \"valueTowardsCompletion\": 0.25, \"interactionType\": 1, \"questionType\": 2, \"questionId\": \"4_ReviewsPerRegion\", \"learnToolsVersion\": \"0.3.4\", \"failureMessage\": \"\", \"exceptionClass\": \"\", \"trace\": \"\"}}, \"*\")"
      ],
      "text/plain": [
       "<IPython.core.display.Javascript object>"
      ]
     },
     "metadata": {},
     "output_type": "display_data"
    },
    {
     "data": {
      "text/markdown": [
       "<span style=\"color:#33cc33\">Correct</span>"
      ],
      "text/plain": [
       "Correct"
      ]
     },
     "metadata": {},
     "output_type": "display_data"
    }
   ],
   "source": [
    "reviews_per_region = reviews.region_1.fillna('Unknown').value_counts().sort_values(ascending=False)\n",
    "\n",
    "# Check your answer\n",
    "q4.check()"
   ]
  },
  {
   "cell_type": "code",
   "execution_count": 9,
   "id": "63b085af",
   "metadata": {
    "execution": {
     "iopub.execute_input": "2023-06-28T09:24:14.587396Z",
     "iopub.status.busy": "2023-06-28T09:24:14.586704Z",
     "iopub.status.idle": "2023-06-28T09:24:14.591154Z",
     "shell.execute_reply": "2023-06-28T09:24:14.590238Z"
    },
    "papermill": {
     "duration": 0.015369,
     "end_time": "2023-06-28T09:24:14.593626",
     "exception": false,
     "start_time": "2023-06-28T09:24:14.578257",
     "status": "completed"
    },
    "tags": []
   },
   "outputs": [],
   "source": [
    "#q4.hint()\n",
    "#q4.solution()"
   ]
  },
  {
   "cell_type": "markdown",
   "id": "3add1956",
   "metadata": {
    "papermill": {
     "duration": 0.006865,
     "end_time": "2023-06-28T09:24:14.607657",
     "exception": false,
     "start_time": "2023-06-28T09:24:14.600792",
     "status": "completed"
    },
    "tags": []
   },
   "source": [
    "# Keep going\n",
    "\n",
    "Move on to **[renaming and combining](https://www.kaggle.com/residentmario/renaming-and-combining)**."
   ]
  },
  {
   "cell_type": "markdown",
   "id": "79b5aa60",
   "metadata": {
    "papermill": {
     "duration": 0.006949,
     "end_time": "2023-06-28T09:24:14.621867",
     "exception": false,
     "start_time": "2023-06-28T09:24:14.614918",
     "status": "completed"
    },
    "tags": []
   },
   "source": [
    "---\n",
    "\n",
    "\n",
    "\n",
    "\n",
    "*Have questions or comments? Visit the [course discussion forum](https://www.kaggle.com/learn/pandas/discussion) to chat with other learners.*"
   ]
  }
 ],
 "metadata": {
  "kernelspec": {
   "display_name": "Python 3",
   "language": "python",
   "name": "python3"
  },
  "language_info": {
   "codemirror_mode": {
    "name": "ipython",
    "version": 3
   },
   "file_extension": ".py",
   "mimetype": "text/x-python",
   "name": "python",
   "nbconvert_exporter": "python",
   "pygments_lexer": "ipython3",
   "version": "3.10.10"
  },
  "papermill": {
   "default_parameters": {},
   "duration": 17.00854,
   "end_time": "2023-06-28T09:24:15.551236",
   "environment_variables": {},
   "exception": null,
   "input_path": "__notebook__.ipynb",
   "output_path": "__notebook__.ipynb",
   "parameters": {},
   "start_time": "2023-06-28T09:23:58.542696",
   "version": "2.4.0"
  }
 },
 "nbformat": 4,
 "nbformat_minor": 5
}
