{
 "cells": [
  {
   "cell_type": "markdown",
   "id": "72353489",
   "metadata": {
    "papermill": {
     "duration": 0.004717,
     "end_time": "2023-06-28T09:51:00.370428",
     "exception": false,
     "start_time": "2023-06-28T09:51:00.365711",
     "status": "completed"
    },
    "tags": []
   },
   "source": [
    "**[Machine Learning Course Home Page](https://www.kaggle.com/learn/machine-learning)**\n",
    "\n",
    "---\n"
   ]
  },
  {
   "cell_type": "markdown",
   "id": "bae57c56",
   "metadata": {
    "papermill": {
     "duration": 0.003764,
     "end_time": "2023-06-28T09:51:00.378449",
     "exception": false,
     "start_time": "2023-06-28T09:51:00.374685",
     "status": "completed"
    },
    "tags": []
   },
   "source": [
    "This exercise will test your ability to read a data file and understand statistics about the data.\n",
    "\n",
    "In later exercises, you will apply techniques to filter the data, build a machine learning model, and iteratively improve your model.\n",
    "\n",
    "The course examples use data from Melbourne. To ensure you can apply these techniques on your own, you will have to apply them to a new dataset (with house prices from Iowa).\n",
    "\n",
    "The exercises use a \"notebook\" coding environment.  In case you are unfamiliar with notebooks, we have a [90-second intro video](https://www.youtube.com/watch?v=4C2qMnaIKL4).\n",
    "\n",
    "# Exercises\n",
    "\n",
    "Run the following cell to set up code-checking, which will verify your work as you go."
   ]
  },
  {
   "cell_type": "code",
   "execution_count": 1,
   "id": "51b66ac4",
   "metadata": {
    "execution": {
     "iopub.execute_input": "2023-06-28T09:51:00.388319Z",
     "iopub.status.busy": "2023-06-28T09:51:00.387876Z",
     "iopub.status.idle": "2023-06-28T09:51:00.434139Z",
     "shell.execute_reply": "2023-06-28T09:51:00.433036Z"
    },
    "papermill": {
     "duration": 0.054316,
     "end_time": "2023-06-28T09:51:00.436782",
     "exception": false,
     "start_time": "2023-06-28T09:51:00.382466",
     "status": "completed"
    },
    "tags": []
   },
   "outputs": [
    {
     "name": "stdout",
     "output_type": "stream",
     "text": [
      "Setup Complete\n"
     ]
    }
   ],
   "source": [
    "# Set up code checking\n",
    "from learntools.core import binder\n",
    "binder.bind(globals())\n",
    "from learntools.machine_learning.ex2 import *\n",
    "print(\"Setup Complete\")"
   ]
  },
  {
   "cell_type": "markdown",
   "id": "3da954d3",
   "metadata": {
    "papermill": {
     "duration": 0.003956,
     "end_time": "2023-06-28T09:51:00.445003",
     "exception": false,
     "start_time": "2023-06-28T09:51:00.441047",
     "status": "completed"
    },
    "tags": []
   },
   "source": [
    "## Step 1: Loading Data\n",
    "Read the Iowa data file into a Pandas DataFrame called `home_data`."
   ]
  },
  {
   "cell_type": "code",
   "execution_count": 2,
   "id": "db5ac987",
   "metadata": {
    "execution": {
     "iopub.execute_input": "2023-06-28T09:51:00.455523Z",
     "iopub.status.busy": "2023-06-28T09:51:00.454752Z",
     "iopub.status.idle": "2023-06-28T09:51:00.525686Z",
     "shell.execute_reply": "2023-06-28T09:51:00.524596Z"
    },
    "papermill": {
     "duration": 0.078912,
     "end_time": "2023-06-28T09:51:00.528047",
     "exception": false,
     "start_time": "2023-06-28T09:51:00.449135",
     "status": "completed"
    },
    "tags": []
   },
   "outputs": [
    {
     "data": {
      "application/javascript": [
       "parent.postMessage({\"jupyterEvent\": \"custom.exercise_interaction\", \"data\": {\"outcomeType\": 1, \"valueTowardsCompletion\": 0.5, \"interactionType\": 1, \"questionType\": 1, \"questionId\": \"1_LoadHomeData\", \"learnToolsVersion\": \"0.3.4\", \"failureMessage\": \"\", \"exceptionClass\": \"\", \"trace\": \"\"}}, \"*\")"
      ],
      "text/plain": [
       "<IPython.core.display.Javascript object>"
      ]
     },
     "metadata": {},
     "output_type": "display_data"
    },
    {
     "data": {
      "text/markdown": [
       "<span style=\"color:#33cc33\">Correct</span>"
      ],
      "text/plain": [
       "Correct"
      ]
     },
     "metadata": {},
     "output_type": "display_data"
    }
   ],
   "source": [
    "import pandas as pd\n",
    "\n",
    "# Path of the file to read\n",
    "iowa_file_path = '../input/home-data-for-ml-course/train.csv'\n",
    "\n",
    "# Fill in the line below to read the file into a variable home_data\n",
    "home_data = pd.read_csv(iowa_file_path)\n",
    "\n",
    "# Call line below with no argument to check that you've loaded the data correctly\n",
    "step_1.check()"
   ]
  },
  {
   "cell_type": "code",
   "execution_count": 3,
   "id": "09f5a7b6",
   "metadata": {
    "execution": {
     "iopub.execute_input": "2023-06-28T09:51:00.538786Z",
     "iopub.status.busy": "2023-06-28T09:51:00.538407Z",
     "iopub.status.idle": "2023-06-28T09:51:00.544120Z",
     "shell.execute_reply": "2023-06-28T09:51:00.543176Z"
    },
    "papermill": {
     "duration": 0.01375,
     "end_time": "2023-06-28T09:51:00.546380",
     "exception": false,
     "start_time": "2023-06-28T09:51:00.532630",
     "status": "completed"
    },
    "tags": []
   },
   "outputs": [],
   "source": [
    "# Lines below will give you a hint or solution code\n",
    "#step_1.hint()\n",
    "#step_1.solution()"
   ]
  },
  {
   "cell_type": "markdown",
   "id": "275f31b6",
   "metadata": {
    "papermill": {
     "duration": 0.004322,
     "end_time": "2023-06-28T09:51:00.555325",
     "exception": false,
     "start_time": "2023-06-28T09:51:00.551003",
     "status": "completed"
    },
    "tags": []
   },
   "source": [
    "## Step 2: Review The Data\n",
    "Use the command you learned to view summary statistics of the data. Then fill in variables to answer the following questions"
   ]
  },
  {
   "cell_type": "code",
   "execution_count": 4,
   "id": "8bb4e350",
   "metadata": {
    "collapsed": true,
    "execution": {
     "iopub.execute_input": "2023-06-28T09:51:00.566380Z",
     "iopub.status.busy": "2023-06-28T09:51:00.565640Z",
     "iopub.status.idle": "2023-06-28T09:51:00.571517Z",
     "shell.execute_reply": "2023-06-28T09:51:00.570609Z"
    },
    "jupyter": {
     "outputs_hidden": true
    },
    "papermill": {
     "duration": 0.013796,
     "end_time": "2023-06-28T09:51:00.573634",
     "exception": false,
     "start_time": "2023-06-28T09:51:00.559838",
     "status": "completed"
    },
    "tags": []
   },
   "outputs": [
    {
     "data": {
      "text/markdown": [],
      "text/plain": [
       "<learntools.core.constants.PlaceholderValue at 0x7ab075ee31c0>"
      ]
     },
     "execution_count": 4,
     "metadata": {},
     "output_type": "execute_result"
    }
   ],
   "source": [
    "# Print summary statistics in next line\n",
    "____"
   ]
  },
  {
   "cell_type": "code",
   "execution_count": 5,
   "id": "c9638edf",
   "metadata": {
    "execution": {
     "iopub.execute_input": "2023-06-28T09:51:00.586879Z",
     "iopub.status.busy": "2023-06-28T09:51:00.586133Z",
     "iopub.status.idle": "2023-06-28T09:51:00.594130Z",
     "shell.execute_reply": "2023-06-28T09:51:00.593046Z"
    },
    "papermill": {
     "duration": 0.016476,
     "end_time": "2023-06-28T09:51:00.596411",
     "exception": false,
     "start_time": "2023-06-28T09:51:00.579935",
     "status": "completed"
    },
    "tags": []
   },
   "outputs": [
    {
     "data": {
      "application/javascript": [
       "parent.postMessage({\"jupyterEvent\": \"custom.exercise_interaction\", \"data\": {\"outcomeType\": 1, \"valueTowardsCompletion\": 0.5, \"interactionType\": 1, \"questionType\": 1, \"questionId\": \"2_HomeDescription\", \"learnToolsVersion\": \"0.3.4\", \"failureMessage\": \"\", \"exceptionClass\": \"\", \"trace\": \"\"}}, \"*\")"
      ],
      "text/plain": [
       "<IPython.core.display.Javascript object>"
      ]
     },
     "metadata": {},
     "output_type": "display_data"
    },
    {
     "data": {
      "text/markdown": [
       "<span style=\"color:#33cc33\">Correct</span>"
      ],
      "text/plain": [
       "Correct"
      ]
     },
     "metadata": {},
     "output_type": "display_data"
    }
   ],
   "source": [
    "# What is the average lot size (rounded to nearest integer)?\n",
    "avg_lot_size = 10517\n",
    "\n",
    "# As of today, how old is the newest home (current year - the date in which it was built)\n",
    "newest_home_age = 13\n",
    "\n",
    "# Checks your answers\n",
    "step_2.check()"
   ]
  },
  {
   "cell_type": "code",
   "execution_count": 6,
   "id": "ab2205f6",
   "metadata": {
    "execution": {
     "iopub.execute_input": "2023-06-28T09:51:00.608286Z",
     "iopub.status.busy": "2023-06-28T09:51:00.607872Z",
     "iopub.status.idle": "2023-06-28T09:51:00.612435Z",
     "shell.execute_reply": "2023-06-28T09:51:00.611343Z"
    },
    "papermill": {
     "duration": 0.013095,
     "end_time": "2023-06-28T09:51:00.614601",
     "exception": false,
     "start_time": "2023-06-28T09:51:00.601506",
     "status": "completed"
    },
    "tags": []
   },
   "outputs": [],
   "source": [
    "#step_2.hint()\n",
    "#step_2.solution()"
   ]
  },
  {
   "cell_type": "markdown",
   "id": "3ba1eaab",
   "metadata": {
    "papermill": {
     "duration": 0.004897,
     "end_time": "2023-06-28T09:51:00.624750",
     "exception": false,
     "start_time": "2023-06-28T09:51:00.619853",
     "status": "completed"
    },
    "tags": []
   },
   "source": [
    "## Think About Your Data\n",
    "\n",
    "The newest house in your data isn't that new.  A few potential explanations for this:\n",
    "1. They haven't built new houses where this data was collected.\n",
    "1. The data was collected a long time ago. Houses built after the data publication wouldn't show up.\n",
    "\n",
    "If the reason is explanation #1 above, does that affect your trust in the model you build with this data? What about if it is reason #2?\n",
    "\n",
    "How could you dig into the data to see which explanation is more plausible?\n",
    "\n",
    "Check out this **[discussion thread](https://www.kaggle.com/learn-forum/60581)** to see what others think or to add your ideas.\n",
    "\n",
    "# Keep Going\n",
    "\n",
    "You are ready for **[Your First Machine Learning Model](https://www.kaggle.com/dansbecker/your-first-machine-learning-model).**\n"
   ]
  },
  {
   "cell_type": "markdown",
   "id": "4208202e",
   "metadata": {
    "papermill": {
     "duration": 0.004892,
     "end_time": "2023-06-28T09:51:00.634659",
     "exception": false,
     "start_time": "2023-06-28T09:51:00.629767",
     "status": "completed"
    },
    "tags": []
   },
   "source": [
    "---\n",
    "**[Machine Learning Course Home Page](https://www.kaggle.com/learn/machine-learning)**\n",
    "\n"
   ]
  }
 ],
 "metadata": {
  "kernelspec": {
   "display_name": "Python 3",
   "language": "python",
   "name": "python3"
  },
  "language_info": {
   "codemirror_mode": {
    "name": "ipython",
    "version": 3
   },
   "file_extension": ".py",
   "mimetype": "text/x-python",
   "name": "python",
   "nbconvert_exporter": "python",
   "pygments_lexer": "ipython3",
   "version": "3.10.10"
  },
  "papermill": {
   "default_parameters": {},
   "duration": 12.907753,
   "end_time": "2023-06-28T09:51:01.462690",
   "environment_variables": {},
   "exception": null,
   "input_path": "__notebook__.ipynb",
   "output_path": "__notebook__.ipynb",
   "parameters": {},
   "start_time": "2023-06-28T09:50:48.554937",
   "version": "2.4.0"
  }
 },
 "nbformat": 4,
 "nbformat_minor": 5
}
