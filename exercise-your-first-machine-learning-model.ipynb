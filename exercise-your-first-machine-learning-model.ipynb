{
 "cells": [
  {
   "cell_type": "markdown",
   "id": "7ed3b195",
   "metadata": {
    "papermill": {
     "duration": 0.006,
     "end_time": "2023-06-28T09:55:37.690421",
     "exception": false,
     "start_time": "2023-06-28T09:55:37.684421",
     "status": "completed"
    },
    "tags": []
   },
   "source": [
    "**This notebook is an exercise in the [Introduction to Machine Learning](https://www.kaggle.com/learn/intro-to-machine-learning) course.  You can reference the tutorial at [this link](https://www.kaggle.com/dansbecker/your-first-machine-learning-model).**\n",
    "\n",
    "---\n"
   ]
  },
  {
   "cell_type": "markdown",
   "id": "0c686d62",
   "metadata": {
    "papermill": {
     "duration": 0.005102,
     "end_time": "2023-06-28T09:55:37.701158",
     "exception": false,
     "start_time": "2023-06-28T09:55:37.696056",
     "status": "completed"
    },
    "tags": []
   },
   "source": [
    "## Recap\n",
    "So far, you have loaded your data and reviewed it with the following code. Run this cell to set up your coding environment where the previous step left off."
   ]
  },
  {
   "cell_type": "code",
   "execution_count": 1,
   "id": "c13d606b",
   "metadata": {
    "execution": {
     "iopub.execute_input": "2023-06-28T09:55:37.714129Z",
     "iopub.status.busy": "2023-06-28T09:55:37.713435Z",
     "iopub.status.idle": "2023-06-28T09:55:39.277448Z",
     "shell.execute_reply": "2023-06-28T09:55:39.276378Z"
    },
    "papermill": {
     "duration": 1.572674,
     "end_time": "2023-06-28T09:55:39.279666",
     "exception": false,
     "start_time": "2023-06-28T09:55:37.706992",
     "status": "completed"
    },
    "tags": []
   },
   "outputs": [
    {
     "name": "stdout",
     "output_type": "stream",
     "text": [
      "Setup Complete\n"
     ]
    }
   ],
   "source": [
    "# Code you have previously used to load data\n",
    "import pandas as pd\n",
    "\n",
    "# Path of the file to read\n",
    "iowa_file_path = '../input/home-data-for-ml-course/train.csv'\n",
    "\n",
    "home_data = pd.read_csv(iowa_file_path)\n",
    "\n",
    "# Set up code checking\n",
    "from learntools.core import binder\n",
    "binder.bind(globals())\n",
    "from learntools.machine_learning.ex3 import *\n",
    "\n",
    "print(\"Setup Complete\")"
   ]
  },
  {
   "cell_type": "markdown",
   "id": "6574aa15",
   "metadata": {
    "papermill": {
     "duration": 0.005348,
     "end_time": "2023-06-28T09:55:39.290989",
     "exception": false,
     "start_time": "2023-06-28T09:55:39.285641",
     "status": "completed"
    },
    "tags": []
   },
   "source": [
    "# Exercises\n",
    "\n",
    "## Step 1: Specify Prediction Target\n",
    "Select the target variable, which corresponds to the sales price. Save this to a new variable called `y`. You'll need to print a list of the columns to find the name of the column you need.\n"
   ]
  },
  {
   "cell_type": "code",
   "execution_count": 2,
   "id": "e6ff596c",
   "metadata": {
    "execution": {
     "iopub.execute_input": "2023-06-28T09:55:39.303395Z",
     "iopub.status.busy": "2023-06-28T09:55:39.303052Z",
     "iopub.status.idle": "2023-06-28T09:55:39.306930Z",
     "shell.execute_reply": "2023-06-28T09:55:39.306057Z"
    },
    "papermill": {
     "duration": 0.012336,
     "end_time": "2023-06-28T09:55:39.308899",
     "exception": false,
     "start_time": "2023-06-28T09:55:39.296563",
     "status": "completed"
    },
    "tags": []
   },
   "outputs": [],
   "source": [
    "# print the list of columns in the dataset to find the name of the prediction target\n"
   ]
  },
  {
   "cell_type": "code",
   "execution_count": 3,
   "id": "4f5bebb0",
   "metadata": {
    "execution": {
     "iopub.execute_input": "2023-06-28T09:55:39.322395Z",
     "iopub.status.busy": "2023-06-28T09:55:39.321947Z",
     "iopub.status.idle": "2023-06-28T09:55:39.338035Z",
     "shell.execute_reply": "2023-06-28T09:55:39.337342Z"
    },
    "papermill": {
     "duration": 0.025723,
     "end_time": "2023-06-28T09:55:39.340125",
     "exception": false,
     "start_time": "2023-06-28T09:55:39.314402",
     "status": "completed"
    },
    "tags": []
   },
   "outputs": [
    {
     "data": {
      "application/javascript": [
       "parent.postMessage({\"jupyterEvent\": \"custom.exercise_interaction\", \"data\": {\"outcomeType\": 1, \"valueTowardsCompletion\": 0.25, \"interactionType\": 1, \"questionType\": 2, \"questionId\": \"1_SetTarget\", \"learnToolsVersion\": \"0.3.4\", \"failureMessage\": \"\", \"exceptionClass\": \"\", \"trace\": \"\"}}, \"*\")"
      ],
      "text/plain": [
       "<IPython.core.display.Javascript object>"
      ]
     },
     "metadata": {},
     "output_type": "display_data"
    },
    {
     "data": {
      "text/markdown": [
       "<span style=\"color:#33cc33\">Correct</span>"
      ],
      "text/plain": [
       "Correct"
      ]
     },
     "metadata": {},
     "output_type": "display_data"
    }
   ],
   "source": [
    "y = home_data.SalePrice\n",
    "\n",
    "# Check your answer\n",
    "step_1.check()"
   ]
  },
  {
   "cell_type": "code",
   "execution_count": 4,
   "id": "08a1175a",
   "metadata": {
    "execution": {
     "iopub.execute_input": "2023-06-28T09:55:39.354081Z",
     "iopub.status.busy": "2023-06-28T09:55:39.353474Z",
     "iopub.status.idle": "2023-06-28T09:55:39.356896Z",
     "shell.execute_reply": "2023-06-28T09:55:39.356295Z"
    },
    "papermill": {
     "duration": 0.011877,
     "end_time": "2023-06-28T09:55:39.358512",
     "exception": false,
     "start_time": "2023-06-28T09:55:39.346635",
     "status": "completed"
    },
    "tags": []
   },
   "outputs": [],
   "source": [
    "# The lines below will show you a hint or the solution.\n",
    "# step_1.hint() \n",
    "#step_1.solution()"
   ]
  },
  {
   "cell_type": "markdown",
   "id": "3ee67ef5",
   "metadata": {
    "papermill": {
     "duration": 0.005722,
     "end_time": "2023-06-28T09:55:39.370271",
     "exception": false,
     "start_time": "2023-06-28T09:55:39.364549",
     "status": "completed"
    },
    "tags": []
   },
   "source": [
    "## Step 2: Create X\n",
    "Now you will create a DataFrame called `X` holding the predictive features.\n",
    "\n",
    "Since you want only some columns from the original data, you'll first create a list with the names of the columns you want in `X`.\n",
    "\n",
    "You'll use just the following columns in the list (you can copy and paste the whole list to save some typing, though you'll still need to add quotes):\n",
    "  * LotArea\n",
    "  * YearBuilt\n",
    "  * 1stFlrSF\n",
    "  * 2ndFlrSF\n",
    "  * FullBath\n",
    "  * BedroomAbvGr\n",
    "  * TotRmsAbvGrd\n",
    "\n",
    "After you've created that list of features, use it to create the DataFrame that you'll use to fit the model."
   ]
  },
  {
   "cell_type": "code",
   "execution_count": 5,
   "id": "99cf96d9",
   "metadata": {
    "execution": {
     "iopub.execute_input": "2023-06-28T09:55:39.383092Z",
     "iopub.status.busy": "2023-06-28T09:55:39.382828Z",
     "iopub.status.idle": "2023-06-28T09:55:39.397272Z",
     "shell.execute_reply": "2023-06-28T09:55:39.396467Z"
    },
    "papermill": {
     "duration": 0.022986,
     "end_time": "2023-06-28T09:55:39.399136",
     "exception": false,
     "start_time": "2023-06-28T09:55:39.376150",
     "status": "completed"
    },
    "tags": []
   },
   "outputs": [
    {
     "data": {
      "application/javascript": [
       "parent.postMessage({\"jupyterEvent\": \"custom.exercise_interaction\", \"data\": {\"outcomeType\": 1, \"valueTowardsCompletion\": 0.25, \"interactionType\": 1, \"questionType\": 2, \"questionId\": \"2_SelectPredictionData\", \"learnToolsVersion\": \"0.3.4\", \"failureMessage\": \"\", \"exceptionClass\": \"\", \"trace\": \"\"}}, \"*\")"
      ],
      "text/plain": [
       "<IPython.core.display.Javascript object>"
      ]
     },
     "metadata": {},
     "output_type": "display_data"
    },
    {
     "data": {
      "text/markdown": [
       "<span style=\"color:#33cc33\">Correct</span>"
      ],
      "text/plain": [
       "Correct"
      ]
     },
     "metadata": {},
     "output_type": "display_data"
    }
   ],
   "source": [
    "# Create the list of features below\n",
    "feature_names = [\"LotArea\", \"YearBuilt\", \"1stFlrSF\", \"2ndFlrSF\",\n",
    "                      \"FullBath\", \"BedroomAbvGr\", \"TotRmsAbvGrd\"]\n",
    "\n",
    "# Select data corresponding to features in feature_names\n",
    "X = home_data[feature_names]\n",
    "\n",
    "# Check your answer\n",
    "step_2.check()"
   ]
  },
  {
   "cell_type": "code",
   "execution_count": 6,
   "id": "9ee86068",
   "metadata": {
    "execution": {
     "iopub.execute_input": "2023-06-28T09:55:39.412762Z",
     "iopub.status.busy": "2023-06-28T09:55:39.412357Z",
     "iopub.status.idle": "2023-06-28T09:55:39.415236Z",
     "shell.execute_reply": "2023-06-28T09:55:39.414660Z"
    },
    "papermill": {
     "duration": 0.011429,
     "end_time": "2023-06-28T09:55:39.416907",
     "exception": false,
     "start_time": "2023-06-28T09:55:39.405478",
     "status": "completed"
    },
    "tags": []
   },
   "outputs": [],
   "source": [
    "# step_2.hint()\n",
    "#step_2.solution()"
   ]
  },
  {
   "cell_type": "markdown",
   "id": "f53d644f",
   "metadata": {
    "papermill": {
     "duration": 0.006039,
     "end_time": "2023-06-28T09:55:39.428978",
     "exception": false,
     "start_time": "2023-06-28T09:55:39.422939",
     "status": "completed"
    },
    "tags": []
   },
   "source": [
    "## Review Data\n",
    "Before building a model, take a quick look at **X** to verify it looks sensible"
   ]
  },
  {
   "cell_type": "code",
   "execution_count": 7,
   "id": "3a5310e4",
   "metadata": {
    "execution": {
     "iopub.execute_input": "2023-06-28T09:55:39.442357Z",
     "iopub.status.busy": "2023-06-28T09:55:39.441932Z",
     "iopub.status.idle": "2023-06-28T09:55:39.444939Z",
     "shell.execute_reply": "2023-06-28T09:55:39.444277Z"
    },
    "papermill": {
     "duration": 0.011491,
     "end_time": "2023-06-28T09:55:39.446571",
     "exception": false,
     "start_time": "2023-06-28T09:55:39.435080",
     "status": "completed"
    },
    "tags": []
   },
   "outputs": [],
   "source": [
    "# Review data\n",
    "# print description or statistics from X\n",
    "#print(_)\n",
    "\n",
    "# print the top few lines\n",
    "#print(_)"
   ]
  },
  {
   "cell_type": "markdown",
   "id": "8b475699",
   "metadata": {
    "papermill": {
     "duration": 0.005941,
     "end_time": "2023-06-28T09:55:39.458478",
     "exception": false,
     "start_time": "2023-06-28T09:55:39.452537",
     "status": "completed"
    },
    "tags": []
   },
   "source": [
    "## Step 3: Specify and Fit Model\n",
    "Create a `DecisionTreeRegressor` and save it iowa_model. Ensure you've done the relevant import from sklearn to run this command.\n",
    "\n",
    "Then fit the model you just created using the data in `X` and `y` that you saved above."
   ]
  },
  {
   "cell_type": "code",
   "execution_count": 8,
   "id": "59f4f76d",
   "metadata": {
    "execution": {
     "iopub.execute_input": "2023-06-28T09:55:39.472035Z",
     "iopub.status.busy": "2023-06-28T09:55:39.471609Z",
     "iopub.status.idle": "2023-06-28T09:55:39.487792Z",
     "shell.execute_reply": "2023-06-28T09:55:39.487143Z"
    },
    "papermill": {
     "duration": 0.02477,
     "end_time": "2023-06-28T09:55:39.489557",
     "exception": false,
     "start_time": "2023-06-28T09:55:39.464787",
     "status": "completed"
    },
    "tags": []
   },
   "outputs": [
    {
     "data": {
      "application/javascript": [
       "parent.postMessage({\"jupyterEvent\": \"custom.exercise_interaction\", \"data\": {\"outcomeType\": 1, \"valueTowardsCompletion\": 0.25, \"interactionType\": 1, \"questionType\": 2, \"questionId\": \"3_CreateModel\", \"learnToolsVersion\": \"0.3.4\", \"failureMessage\": \"\", \"exceptionClass\": \"\", \"trace\": \"\"}}, \"*\")"
      ],
      "text/plain": [
       "<IPython.core.display.Javascript object>"
      ]
     },
     "metadata": {},
     "output_type": "display_data"
    },
    {
     "data": {
      "text/markdown": [
       "<span style=\"color:#33cc33\">Correct</span>"
      ],
      "text/plain": [
       "Correct"
      ]
     },
     "metadata": {},
     "output_type": "display_data"
    }
   ],
   "source": [
    "# from _ import _\n",
    "#specify the model. \n",
    "#For model reproducibility, set a numeric value for random_state when specifying the model\n",
    "from sklearn.tree import DecisionTreeRegressor\n",
    "iowa_model = DecisionTreeRegressor(random_state=1)\n",
    "iowa_model.fit(X, y)\n",
    "\n",
    "# Fit the model\n",
    "____\n",
    "\n",
    "# Check your answer\n",
    "step_3.check()"
   ]
  },
  {
   "cell_type": "code",
   "execution_count": 9,
   "id": "75219fd7",
   "metadata": {
    "execution": {
     "iopub.execute_input": "2023-06-28T09:55:39.504085Z",
     "iopub.status.busy": "2023-06-28T09:55:39.503626Z",
     "iopub.status.idle": "2023-06-28T09:55:39.506713Z",
     "shell.execute_reply": "2023-06-28T09:55:39.505943Z"
    },
    "papermill": {
     "duration": 0.012602,
     "end_time": "2023-06-28T09:55:39.508638",
     "exception": false,
     "start_time": "2023-06-28T09:55:39.496036",
     "status": "completed"
    },
    "tags": []
   },
   "outputs": [],
   "source": [
    "# step_3.hint()\n",
    "#step_3.solution()"
   ]
  },
  {
   "cell_type": "markdown",
   "id": "ffc24e29",
   "metadata": {
    "papermill": {
     "duration": 0.006287,
     "end_time": "2023-06-28T09:55:39.521543",
     "exception": false,
     "start_time": "2023-06-28T09:55:39.515256",
     "status": "completed"
    },
    "tags": []
   },
   "source": [
    "## Step 4: Make Predictions\n",
    "Make predictions with the model's `predict` command using `X` as the data. Save the results to a variable called `predictions`."
   ]
  },
  {
   "cell_type": "code",
   "execution_count": 10,
   "id": "d9b090df",
   "metadata": {
    "execution": {
     "iopub.execute_input": "2023-06-28T09:55:39.535788Z",
     "iopub.status.busy": "2023-06-28T09:55:39.535516Z",
     "iopub.status.idle": "2023-06-28T09:55:39.546600Z",
     "shell.execute_reply": "2023-06-28T09:55:39.545776Z"
    },
    "papermill": {
     "duration": 0.020217,
     "end_time": "2023-06-28T09:55:39.548304",
     "exception": false,
     "start_time": "2023-06-28T09:55:39.528087",
     "status": "completed"
    },
    "tags": []
   },
   "outputs": [
    {
     "name": "stdout",
     "output_type": "stream",
     "text": [
      "[208500. 181500. 223500. ... 266500. 142125. 147500.]\n"
     ]
    },
    {
     "data": {
      "application/javascript": [
       "parent.postMessage({\"jupyterEvent\": \"custom.exercise_interaction\", \"data\": {\"outcomeType\": 1, \"valueTowardsCompletion\": 0.25, \"interactionType\": 1, \"questionType\": 2, \"questionId\": \"4_MakePredictions\", \"learnToolsVersion\": \"0.3.4\", \"failureMessage\": \"\", \"exceptionClass\": \"\", \"trace\": \"\"}}, \"*\")"
      ],
      "text/plain": [
       "<IPython.core.display.Javascript object>"
      ]
     },
     "metadata": {},
     "output_type": "display_data"
    },
    {
     "data": {
      "text/markdown": [
       "<span style=\"color:#33cc33\">Correct</span>"
      ],
      "text/plain": [
       "Correct"
      ]
     },
     "metadata": {},
     "output_type": "display_data"
    }
   ],
   "source": [
    "predictions = iowa_model.predict(X)\n",
    "print(predictions)\n",
    "\n",
    "# Check your answer\n",
    "step_4.check()"
   ]
  },
  {
   "cell_type": "code",
   "execution_count": 11,
   "id": "2167c762",
   "metadata": {
    "execution": {
     "iopub.execute_input": "2023-06-28T09:55:39.562881Z",
     "iopub.status.busy": "2023-06-28T09:55:39.562383Z",
     "iopub.status.idle": "2023-06-28T09:55:39.566328Z",
     "shell.execute_reply": "2023-06-28T09:55:39.565487Z"
    },
    "papermill": {
     "duration": 0.013069,
     "end_time": "2023-06-28T09:55:39.568139",
     "exception": false,
     "start_time": "2023-06-28T09:55:39.555070",
     "status": "completed"
    },
    "tags": []
   },
   "outputs": [],
   "source": [
    "# step_4.hint()\n",
    "#step_4.solution()"
   ]
  },
  {
   "cell_type": "markdown",
   "id": "750125b6",
   "metadata": {
    "papermill": {
     "duration": 0.006281,
     "end_time": "2023-06-28T09:55:39.581179",
     "exception": false,
     "start_time": "2023-06-28T09:55:39.574898",
     "status": "completed"
    },
    "tags": []
   },
   "source": [
    "## Think About Your Results\n",
    "\n",
    "Use the `head` method to compare the top few predictions to the actual home values (in `y`) for those same homes. Anything surprising?\n"
   ]
  },
  {
   "cell_type": "code",
   "execution_count": 12,
   "id": "8a42ea69",
   "metadata": {
    "execution": {
     "iopub.execute_input": "2023-06-28T09:55:39.595751Z",
     "iopub.status.busy": "2023-06-28T09:55:39.595475Z",
     "iopub.status.idle": "2023-06-28T09:55:39.599102Z",
     "shell.execute_reply": "2023-06-28T09:55:39.598288Z"
    },
    "papermill": {
     "duration": 0.012892,
     "end_time": "2023-06-28T09:55:39.600865",
     "exception": false,
     "start_time": "2023-06-28T09:55:39.587973",
     "status": "completed"
    },
    "tags": []
   },
   "outputs": [],
   "source": [
    "# You can write code in this cell\n"
   ]
  },
  {
   "cell_type": "markdown",
   "id": "910f5cde",
   "metadata": {
    "papermill": {
     "duration": 0.006487,
     "end_time": "2023-06-28T09:55:39.614065",
     "exception": false,
     "start_time": "2023-06-28T09:55:39.607578",
     "status": "completed"
    },
    "tags": []
   },
   "source": [
    "It's natural to ask how accurate the model's predictions will be and how you can improve that. That will be you're next step.\n",
    "\n",
    "# Keep Going\n",
    "\n",
    "You are ready for **[Model Validation](https://www.kaggle.com/dansbecker/model-validation).**\n"
   ]
  },
  {
   "cell_type": "markdown",
   "id": "ad3af176",
   "metadata": {
    "papermill": {
     "duration": 0.007004,
     "end_time": "2023-06-28T09:55:39.627547",
     "exception": false,
     "start_time": "2023-06-28T09:55:39.620543",
     "status": "completed"
    },
    "tags": []
   },
   "source": [
    "---\n",
    "\n",
    "\n",
    "\n",
    "\n",
    "*Have questions or comments? Visit the [course discussion forum](https://www.kaggle.com/learn/intro-to-machine-learning/discussion) to chat with other learners.*"
   ]
  }
 ],
 "metadata": {
  "kernelspec": {
   "display_name": "Python 3",
   "language": "python",
   "name": "python3"
  },
  "language_info": {
   "codemirror_mode": {
    "name": "ipython",
    "version": 3
   },
   "file_extension": ".py",
   "mimetype": "text/x-python",
   "name": "python",
   "nbconvert_exporter": "python",
   "pygments_lexer": "ipython3",
   "version": "3.10.10"
  },
  "papermill": {
   "default_parameters": {},
   "duration": 13.018838,
   "end_time": "2023-06-28T09:55:40.355415",
   "environment_variables": {},
   "exception": null,
   "input_path": "__notebook__.ipynb",
   "output_path": "__notebook__.ipynb",
   "parameters": {},
   "start_time": "2023-06-28T09:55:27.336577",
   "version": "2.4.0"
  }
 },
 "nbformat": 4,
 "nbformat_minor": 5
}
